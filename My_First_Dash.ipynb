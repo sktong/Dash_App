{
 "cells": [
  {
   "cell_type": "code",
   "execution_count": 1,
   "metadata": {},
   "outputs": [
    {
     "data": {
      "text/html": [
       "        <script type=\"text/javascript\">\n",
       "        window.PlotlyConfig = {MathJaxConfig: 'local'};\n",
       "        if (window.MathJax) {MathJax.Hub.Config({SVG: {font: \"STIX-Web\"}});}\n",
       "        if (typeof require !== 'undefined') {\n",
       "        require.undef(\"plotly\");\n",
       "        requirejs.config({\n",
       "            paths: {\n",
       "                'plotly': ['https://cdn.plot.ly/plotly-latest.min']\n",
       "            }\n",
       "        });\n",
       "        require(['plotly'], function(Plotly) {\n",
       "            window._Plotly = Plotly;\n",
       "        });\n",
       "        }\n",
       "        </script>\n",
       "        "
      ]
     },
     "metadata": {},
     "output_type": "display_data"
    },
    {
     "data": {
      "text/html": [
       "        <script type=\"text/javascript\">\n",
       "        window.PlotlyConfig = {MathJaxConfig: 'local'};\n",
       "        if (window.MathJax) {MathJax.Hub.Config({SVG: {font: \"STIX-Web\"}});}\n",
       "        if (typeof require !== 'undefined') {\n",
       "        require.undef(\"plotly\");\n",
       "        requirejs.config({\n",
       "            paths: {\n",
       "                'plotly': ['https://cdn.plot.ly/plotly-latest.min']\n",
       "            }\n",
       "        });\n",
       "        require(['plotly'], function(Plotly) {\n",
       "            window._Plotly = Plotly;\n",
       "        });\n",
       "        }\n",
       "        </script>\n",
       "        "
      ]
     },
     "metadata": {},
     "output_type": "display_data"
    }
   ],
   "source": [
    "import plotly.graph_objects as go\n",
    "from jupyter_dash import JupyterDash\n",
    "import dash  # (version 1.12.0) pip install dash\n",
    "import dash_core_components as dcc\n",
    "import dash_html_components as html\n",
    "from dash.dependencies import Input, Output\n",
    "import pandas as pd\n",
    "import numpy as np\n",
    "import matplotlib.pyplot as plt\n",
    "import seaborn as sns\n",
    "from datetime import datetime as dt\n",
    "from datetime import date\n",
    "from plotly.offline import download_plotlyjs, init_notebook_mode, plot, iplot\n",
    "import cufflinks as cf\n",
    "import plotly.express as px\n",
    "init_notebook_mode(connected=True)\n",
    "cf.go_offline()\n",
    "#matplotlib inline"
   ]
  },
  {
   "cell_type": "code",
   "execution_count": 4,
   "metadata": {},
   "outputs": [
    {
     "name": "stdout",
     "output_type": "stream",
     "text": [
      "<class 'pandas.core.frame.DataFrame'>\n",
      "RangeIndex: 838 entries, 0 to 837\n",
      "Data columns (total 16 columns):\n",
      " #   Column                   Non-Null Count  Dtype         \n",
      "---  ------                   --------------  -----         \n",
      " 0   Unnamed: 0               838 non-null    int64         \n",
      " 1   Buyer Name               838 non-null    object        \n",
      " 2   Seller Name              838 non-null    object        \n",
      " 3   Invoice Issue Date       838 non-null    datetime64[ns]\n",
      " 4   Invoice Ex-factory Date  838 non-null    datetime64[ns]\n",
      " 5   Compliance Date          838 non-null    datetime64[ns]\n",
      " 6   Latest PAD Approve Date  838 non-null    datetime64[ns]\n",
      " 7   Debit Value Date         838 non-null    datetime64[ns]\n",
      " 8   Debit Status             838 non-null    object        \n",
      " 9   Confirmed Payment Date   838 non-null    datetime64[ns]\n",
      " 10  Late Payment Days        838 non-null    int64         \n",
      " 11  PAD PMT Days             838 non-null    int64         \n",
      " 12  Pre-PAD PMT Days         838 non-null    int64         \n",
      " 13  PMT DoW                  838 non-null    int64         \n",
      " 14  PMT WoM                  838 non-null    int64         \n",
      " 15  PMT DnW                  838 non-null    int64         \n",
      "dtypes: datetime64[ns](6), int64(7), object(3)\n",
      "memory usage: 104.9+ KB\n"
     ]
    }
   ],
   "source": [
    "df_dates_only=pd.read_excel('First_Dash_Memo.xlsx')\n",
    "df_dates_only.info()"
   ]
  },
  {
   "cell_type": "code",
   "execution_count": 5,
   "metadata": {},
   "outputs": [
    {
     "name": "stdout",
     "output_type": "stream",
     "text": [
      "Dash app running on http://127.0.0.1:8050/\n",
      "ARVIND LIMITED\n",
      "<class 'str'>\n"
     ]
    }
   ],
   "source": [
    "import plotly.express as px  # (version 4.7.0)\n",
    "import plotly.graph_objects as go\n",
    "from jupyter_dash import JupyterDash\n",
    "import dash  # (version 1.12.0) pip install dash\n",
    "import dash_core_components as dcc\n",
    "import dash_html_components as html\n",
    "from dash.dependencies import Input, Output\n",
    "\n",
    "app = JupyterDash(__name__)\n",
    "server = app.server\n",
    "# ------------------------------------------------------------------------------\n",
    "# App layout\n",
    "app.layout = html.Div([\n",
    "\n",
    "    html.H1(\"My First Dash Demo\", style={'text-align': 'center'}),\n",
    "\n",
    "    dcc.Dropdown(id=\"slct_name\",\n",
    "                 options=[\n",
    "                     {\"label\": \"ARVIND LIMITED\", \"value\": \"ARVIND LIMITED\"},\n",
    "                     {\"label\": \"GBX TRADING FZE\", \"value\": \"GBX TRADING FZE\"},\n",
    "                     {\"label\": \"CRESCENT BAHUMAN LTD\", \"value\": \"CRESCENT BAHUMAN LTD\"}],\n",
    "                 multi=False,\n",
    "                 value=\"ARVIND LIMITED\",\n",
    "                 style={'width': \"40%\"}\n",
    "                 ),\n",
    "\n",
    "    html.Div(id='output_container', children=[]),\n",
    "    html.Br(),\n",
    "\n",
    "    dcc.Graph(id='boxplot', figure={})\n",
    "\n",
    "])\n",
    "\n",
    "\n",
    "# ------------------------------------------------------------------------------\n",
    "# Connect the Plotly graphs with Dash Components\n",
    "@app.callback(\n",
    "    [Output(component_id='output_container', component_property='children'),\n",
    "     Output(component_id='boxplot', component_property='figure')],\n",
    "    [Input(component_id='slct_name', component_property='value')]\n",
    ")\n",
    "def update_graph(option_slctd):\n",
    "    print(option_slctd)\n",
    "    print(type(option_slctd))\n",
    "\n",
    "    container = \"The seller name chosen by user was: {}\".format(option_slctd)\n",
    "    dff = df_dates_only.copy()\n",
    "    dff = dff[dff[\"Seller Name\"] == option_slctd]\n",
    "\n",
    "\n",
    "    # Plotly Express\n",
    "    fig = go.Figure()\n",
    "    fig.add_trace(go.Box(\n",
    "    x=dff['Seller Name'],\n",
    "    y=dff['PAD PMT Days'],\n",
    "    name='PAD PMT Days',\n",
    "    marker_color='#ffbe00'))\n",
    "    fig.update_layout(title={\n",
    "        'text': \"Tenor Days Per Seller Entity\",\n",
    "        'y':0.95,\n",
    "        'x':0.45,\n",
    "        'xanchor': 'center',\n",
    "        'yanchor': 'bottom'},\n",
    "        xaxis_title='Seller Name',\n",
    "        yaxis_title='PAD PMT Days',\n",
    "        legend=dict(\n",
    "    orientation=\"h\",\n",
    "    yanchor=\"bottom\",\n",
    "    y=1.02,\n",
    "    xanchor=\"right\",\n",
    "    x=1),\n",
    "    boxmode='group')\n",
    "    \n",
    "\n",
    "    return container, fig\n",
    "\n",
    "\n",
    "# ------------------------------------------------------------------------------\n",
    "#if __name__ == '__main__':\n",
    "    #app.run_server(debug=True)\n",
    "\n",
    "app.run_server(mode='external')"
   ]
  },
  {
   "cell_type": "code",
   "execution_count": null,
   "metadata": {},
   "outputs": [],
   "source": []
  }
 ],
 "metadata": {
  "kernelspec": {
   "display_name": "Python 3",
   "language": "python",
   "name": "python3"
  },
  "language_info": {
   "codemirror_mode": {
    "name": "ipython",
    "version": 3
   },
   "file_extension": ".py",
   "mimetype": "text/x-python",
   "name": "python",
   "nbconvert_exporter": "python",
   "pygments_lexer": "ipython3",
   "version": "3.7.6"
  }
 },
 "nbformat": 4,
 "nbformat_minor": 4
}
